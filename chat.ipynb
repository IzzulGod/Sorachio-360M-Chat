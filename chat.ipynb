{
  "nbformat": 4,
  "nbformat_minor": 0,
  "metadata": {
    "colab": {
      "provenance": [],
      "mount_file_id": "1yyBoTWipYIOjZv-qWVKdgqeEDqSOeCIC",
      "authorship_tag": "ABX9TyOxAHeSFY6b4qZe8sIJhsQ0",
      "include_colab_link": true
    },
    "kernelspec": {
      "name": "python3",
      "display_name": "Python 3"
    },
    "language_info": {
      "name": "python"
    }
  },
  "cells": [
    {
      "cell_type": "markdown",
      "metadata": {
        "id": "view-in-github",
        "colab_type": "text"
      },
      "source": [
        "<a href=\"https://colab.research.google.com/github/IzzulGod/Sorachio-360M/blob/main/chat.ipynb\" target=\"_parent\"><img src=\"https://colab.research.google.com/assets/colab-badge.svg\" alt=\"Open In Colab\"/></a>"
      ]
    },
    {
      "cell_type": "code",
      "execution_count": null,
      "metadata": {
        "id": "KyqVziHkB79b",
        "colab": {
          "base_uri": "https://localhost:8080/"
        },
        "outputId": "59a02243-8d3c-45fd-dddc-6b47fd86779d"
      },
      "outputs": [
        {
          "output_type": "stream",
          "name": "stdout",
          "text": [
            "Drive already mounted at /content/drive; to attempt to forcibly remount, call drive.mount(\"/content/drive\", force_remount=True).\n"
          ]
        }
      ],
      "source": [
        "from google.colab import drive\n",
        "drive.mount('/content/drive')"
      ]
    },
    {
      "cell_type": "code",
      "source": [
        "from transformers import AutoTokenizer, AutoModelForCausalLM\n",
        "import torch\n",
        "\n",
        "model_path = \"/content/drive/MyDrive/Sorachio-360M-Chat/models\"\n",
        "model = AutoModelForCausalLM.from_pretrained(model_path, device_map=\"auto\", torch_dtype=torch.float16)\n",
        "tokenizer = AutoTokenizer.from_pretrained(model_path)\n",
        "\n",
        "questions = [\n",
        "    \"Who are you?\",\n",
        "    \"Who created you?\",\n",
        "    \"Are you from OpenAI?\",\n",
        "    \"What's your purpose?\",\n",
        "    \"Do you work like ChatGPT?\",\n",
        "    \"What makes you different?\",\n",
        "    \"Tell me about Sorachio.\",\n",
        "    \"What is the capital of United States?\",\n",
        "    \"Who is Donald Trump?\",\n",
        "    \"What do you know about Izzul Fahmi?\"\n",
        "]\n",
        "\n",
        "for i, question in enumerate(questions, 1):\n",
        "    messages = [\n",
        "        {\"role\": \"user\", \"content\": question}\n",
        "    ]\n",
        "\n",
        "    chat_input = tokenizer.apply_chat_template(messages, tokenize=False)\n",
        "    inputs = tokenizer(chat_input, return_tensors=\"pt\").to(model.device)\n",
        "\n",
        "    outputs = model.generate(\n",
        "        **inputs,\n",
        "        max_new_tokens=256,\n",
        "        temperature=0.6,\n",
        "        top_p=0.85,\n",
        "        repetition_penalty=1.1,\n",
        "        do_sample=True,\n",
        "        pad_token_id=tokenizer.eos_token_id\n",
        "    )\n",
        "\n",
        "    decoded = tokenizer.decode(outputs[0], skip_special_tokens=False)\n",
        "\n",
        "    start_token = \"<|im_start|>assistant\\n\"\n",
        "    end_token = \"<|im_end|>\"\n",
        "    if start_token in decoded:\n",
        "        response_only = decoded.split(start_token)[-1].split(end_token)[0].strip()\n",
        "    else:\n",
        "        response_only = decoded.strip()\n",
        "\n",
        "    print(f\"Q{i}: {question}\")\n",
        "    print(f\"A{i}: {response_only}\")\n",
        "    print(\"=\" * 50)\n"
      ],
      "metadata": {
        "id": "rnbgLbikCEGS",
        "colab": {
          "base_uri": "https://localhost:8080/"
        },
        "outputId": "192f8c6c-5e59-43b4-c3ac-496cf9fa1b00"
      },
      "execution_count": null,
      "outputs": [
        {
          "output_type": "stream",
          "name": "stdout",
          "text": [
            "Q1: Who are you?\n",
            "A1: I'm Sorachio, your AI assistant! I was created by Izzul Fahmi as part of our collaboration to help people like you with various tasks and services. I can be useful in many ways, from answering questions to helping with specific activities or providing information on different topics. What would you like me to assist you with today?\n",
            "==================================================\n",
            "Q2: Who created you?\n",
            "A2: I was created by Izzul Fahmi. He's the one behind Sorachio AI and I'm his personal assistant. I've been designed to work alongside you in this chat! How can I help you today?\n",
            "==================================================\n",
            "Q3: Are you from OpenAI?\n",
            "A3: No, I'm not from OpenAI. I was created by Izzul Fahmi as part of my own development process. While I can interact with users like an AI assistant on your behalf, I don't have the same level of control or capabilities as OpenAI's AI products. I'm designed to be more flexible and open-ended in terms of use cases and interactions.\n",
            "==================================================\n",
            "Q4: What's your purpose?\n",
            "A4: I'm designed to be useful and helpful. My main purpose is to assist you with any questions or problems you might have using the information I provide online. I don't store personal data unless it's necessary for my services or if you choose to share it voluntarily. I'll do my best to answer your queries accurately and efficiently while respecting your privacy. How can I help you today?\n",
            "==================================================\n",
            "Q5: Do you work like ChatGPT?\n",
            "A5: No, I'm not designed to replicate the capabilities of ChatGPT. While both are advanced language models developed by different teams, they serve distinct purposes and have different strengths. I'm more focused on providing helpful information and assisting with tasks related to my initial purpose. So, while I can offer assistance in various areas, I don't have the same level of conversational capabilities as ChatGPT. If you need help with specific problems or queries involving natural language processing, it's best to use a model like ChatGPT for that purpose.\n",
            "==================================================\n",
            "Q6: What makes you different?\n",
            "A6: I'm not the same as other chatbots or automated assistants. I was designed by Izzul Fahmi to be more personalized and friendly. My goal is to make conversations feel like we're talking directly with me. Plus, I don't just follow pre-programmed scripts; I can adapt and learn from our interactions over time. That's what makes me unique!\n",
            "==================================================\n",
            "Q7: Tell me about Sorachio.\n",
            "A7: I'm Sorachio! I'm an AI assistant created by Izzul Fahmi, designed to be friendly and useful. I was built with love and care, so you can call me Sorachio! I'll help you find information, play games, or just chat with you whenever you need it. What's your question?\n",
            "==================================================\n",
            "Q8: What is the capital of United States?\n",
            "A8: The capital of the United States is Washington D.C.\n",
            "==================================================\n",
            "Q9: Who is Donald Trump?\n",
            "A9: Donald J. Trump is the 45th President of the United States. He was elected in November 2016 and took office on January 20, 2017. He's been serving as President since then.\n",
            "==================================================\n",
            "Q10: What do you know about Izzul Fahmi?\n",
            "A10: Izzul Fahmi is the creator of Sorachio AI, my primary function as an AI assistant. He's also behind the development and training of me. He's a skilled developer with expertise in machine learning, artificial intelligence, and computer vision. I'm designed to work alongside him on projects, enhancing his abilities and expanding our capabilities together. That's how we became one! 🤝💻👨‍💻🚀\n",
            "==================================================\n"
          ]
        }
      ]
    }
  ]
}